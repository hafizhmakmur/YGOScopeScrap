{
 "cells": [
  {
   "cell_type": "code",
   "execution_count": 1,
   "metadata": {},
   "outputs": [],
   "source": [
    "from urllib.request import urlopen\n",
    "from bs4 import BeautifulSoup"
   ]
  },
  {
   "cell_type": "code",
   "execution_count": 2,
   "metadata": {},
   "outputs": [],
   "source": [
    "ygoscope_url = \"https://www.ygoscope.com/explorer\"\n",
    "\n",
    "ygoscope_page = urlopen(ygoscope_url)\n",
    "ygoscope_text = ygoscope_page.read().decode(\"utf-8\")\n",
    "\n",
    "ygoscope_soup = BeautifulSoup(ygoscope_text, \"html.parser\")\n",
    "\n",
    "#print(ygoscope_soup.prettify())\n",
    "\n",
    "match_cards_table = ygoscope_soup.find(\"table\", id=\"match-cards-table\")\n",
    "#print(match_cards_table)\n",
    "\n",
    "match_cards_body = match_cards_table.find(\"tbody\")\n",
    "#print(match_cards_body)\n",
    "\n",
    "match_cards_rows = match_cards_body.find_all(\"tr\")\n",
    "#print(match_cards_rows)"
   ]
  },
  {
   "cell_type": "code",
   "execution_count": 3,
   "metadata": {},
   "outputs": [],
   "source": [
    "def sanitize(text):\n",
    "    sanitized = text\n",
    "    \n",
    "    from_extra_deck = sanitized.find(\"\\\" from Extra Deck \")\n",
    "    if from_extra_deck != -1:\n",
    "        sanitized = sanitized[:from_extra_deck]\n",
    "        \n",
    "    return sanitized"
   ]
  },
  {
   "cell_type": "code",
   "execution_count": 4,
   "metadata": {},
   "outputs": [],
   "source": [
    "def convert_to_ban(appearance, ban_treshold, limit_treshold):\n",
    "    if appearance > ban_treshold:\n",
    "        return 0\n",
    "    elif appearance > limit_treshold:\n",
    "        return 1\n",
    "    else:\n",
    "        return 2"
   ]
  },
  {
   "cell_type": "code",
   "execution_count": 5,
   "metadata": {},
   "outputs": [],
   "source": [
    "most_used_cards_ygoscope = {}\n",
    "\n",
    "for row in match_cards_rows:\n",
    "    match_card_data = row.find_all(\"td\")\n",
    "    \n",
    "    card_link = match_card_data[0].find(\"a\")\n",
    "    card_name = sanitize(card_link.text)\n",
    "    card_appearance = match_card_data[1].text\n",
    "    \n",
    "    if most_used_cards_ygoscope.get(card_name) is None:\n",
    "        most_used_cards_ygoscope[card_name] = int(card_appearance)\n",
    "    else:\n",
    "        most_used_cards_ygoscope[card_name] += int(card_appearance)\n",
    "        #print(card_database[card_name])\n",
    "\n",
    "#print(most_used_cards_ygoscope)"
   ]
  },
  {
   "cell_type": "code",
   "execution_count": 6,
   "metadata": {},
   "outputs": [],
   "source": [
    "i=1\n",
    "title_collection = []\n",
    "prompt = \"\"\n",
    "api_limit = 50\n",
    "for card in most_used_cards_ygoscope:\n",
    "    prompt += card.replace(\" \",\"_\") + \"|\"\n",
    "    \n",
    "    i += 1\n",
    "    if i > api_limit:\n",
    "        title_collection.append(prompt[:-1])\n",
    "        #print(prompt[:-1])\n",
    "        #print()\n",
    "        i = 1\n",
    "        prompt = \"\"\n",
    "        \n",
    "title_collection.append(prompt[:-1])\n",
    "#print(prompt[:-1])\n",
    "#print()\n",
    "#print(titles)"
   ]
  },
  {
   "cell_type": "code",
   "execution_count": 7,
   "metadata": {},
   "outputs": [
    {
     "name": "stdout",
     "output_type": "stream",
     "text": [
      "<Response [200]>\n",
      "<Response [200]>\n",
      "<Response [200]>\n",
      "<Response [200]>\n",
      "<Response [200]>\n",
      "<Response [200]>\n",
      "<Response [200]>\n",
      "{'86120751': [0, 'Aleister the Invoker'], '98022050': [0, 'Animadorned Archosaur'], '34267821': [0, 'Artifact Lancea'], '14558127': [0, 'Ash Blossom & Joyous Spring'], '36668118': [0, 'Boot Sector Launch'], '24224830': [0, 'Called by the Grave'], '20590515': [0, 'Conquistador of the Golden Land'], '08267140': [0, 'Cosmic Cyclone'], '31434645': [0, 'Cursed Eldland'], '46986414': [0, 'Dark Magician'], '54693926': [0, 'Dark Ruler No More'], '82385847': [0, 'Dinowrestler Pankratops'], '60303688': [0, 'Dogmatika Ecclesia, the Virtuous'], '82956214': [0, 'Dogmatika Punishment'], '94145021': [0, 'Droll & Lock Bird'], '50907446': [0, 'El Shaddoll Apkallone'], '95440946': [0, 'Eldlich the Golden Lord'], '20612097': [0, 'Eldlixir of Scarlet Sanguine'], '57103969': [0, 'Fire Formation - Tenki'], '24299458': [0, 'Forbidden Droplet'], '18144506': [0, \"Harpie's Feather Duster\"], '93191801': [0, 'Huaquero of the Golden Land'], '10045474': [0, 'Infinite Impermanence'], '74063034': [0, 'Invocation'], '75286621': [0, 'Invoked Mechaba'], '14532163': [0, 'Lightning Storm'], '41999284': [0, 'Linkuriboh'], '47679935': [0, 'Magical Meltdown'], '38572779': [0, 'Miscellaneousaurus'], '76375976': [0, 'Mystic Mine'], '01984618': [0, 'Nadir Servant'], '27204311': [0, 'Nibiru, the Primal Being'], '49036338': [0, 'PSY-Frame Driver'], '38814750': [0, 'PSY-Framegear Gamma'], '35261759': [0, 'Pot of Desires'], '49238328': [0, 'Pot of Extravagance'], '84211599': [0, 'Pot of Prosperity'], '70369116': [0, 'Predaplant Verte Anaconda'], '74677422': [0, 'Red-Eyes Black Dragon'], '37818794': [0, 'Red-Eyes Dark Dragoon'], '06172122': [0, 'Red-Eyes Fusion'], '68464358': [0, 'Rokket Tracer'], '60303245': [0, 'Salamangreat Almiraj'], '02220237': [0, 'Secure Gardna'], '41420027': [0, 'Solemn Judgment'], '40605147': [0, 'Solemn Strike'], '44335251': [0, 'Souleating Oviraptor'], '73539069': [0, 'Striker Dragon'], '73628505': [0, 'Terraforming'], '25311006': [0, 'Triple Tactics Talent'], '67748760': [0, 'Absorouter Dragon'], '86066372': [0, 'Accesscode Talker'], '04280258': [0, 'Apollousa, Bow of the Goddess'], '34755994': [0, 'Artemis, the Magistus Moon Maiden'], '36042004': [0, 'Babycerasaurus'], '61901281': [0, 'Black Dragon Collapserpent'], '27548199': [0, 'Borreload Savage Dragon'], '32600024': [0, 'Chamber Dragonmaid'], '55878038': [0, 'Chaos Dragon Levianeer'], '99266988': [0, 'Chaos Space'], '50588353': [0, 'Crystron Halqifibrax'], '90448279': [0, 'Divine Arsenal AA-ZEUS - Sky Thunder'], '69680031': [0, 'Dogmatika Fleurdelis, the Knighted'], '38179121': [0, 'Double Evolution Pill'], '62265044': [0, 'Dragon Ravine'], '57416183': [0, 'Dragonmaid Tidying'], '11969228': [0, 'Dragunity Knight - Romulus'], '20366274': [0, 'El Shaddoll Construct'], '94977269': [0, 'El Shaddoll Winda'], '80532587': [0, \"Elder Entity N'tss\"], '15693423': [0, 'Evenly Matched'], '47325505': [0, 'Fossil Dig'], '55063751': [0, 'Gameciel, the Sea Turtle Kaiju'], '86148577': [0, 'Guardragon Elpy'], '13143275': [0, 'Guardragon Pisty'], '24361622': [0, 'Hieratic Seal of the Heavenly Spheres'], '65741786': [0, 'I:P Masquerena'], '20899496': [0, \"Ice Dragon's Prison\"], '02857636': [0, 'Knightmare Phoenix'], '17228908': [0, 'Lost World'], '83764718': [0, 'Monster Reborn'], '97518132': [0, 'Naelshaddoll Ariel'], '08972398': [0, 'Omni Dragon Brotaur'], '31443476': [0, 'Quick Launch'], '51023024': [0, 'Reeshaddoll Wendi'], '05969957': [0, 'Rokket Recharger'], '48355999': [0, 'Rokket Synchron'], '03717252': [0, 'Shaddoll Beast'], '44394295': [0, 'Shaddoll Fusion'], '04939890': [0, 'Shaddoll Hedgehog'], '21011044': [0, 'Shaddoll Schism'], '30328508': [0, 'Shaddoll Squamata'], '15381421': [0, 'Starliege Seyfert'], '48130397': [0, 'Super Polymerization'], '53582587': [0, 'Torrential Tribute'], '18940556': [0, 'Ultimate Conductor Tyranno'], '99234526': [0, 'White Dragon Wyverburster'], '87571563': [0, 'World Legacy Guardragon'], '04145852': [0, 'Zoodiac Ramram'], '77150143': [0, 'Zoodiac Thoroughblade'], '73356503': [0, 'Barrier Statue of the Stormwinds'], '93969023': [0, 'Black Metal Dragon'], '85289965': [0, 'Borrelsword Dragon'], '03040496': [0, 'Chaos Ruler, the Chaotic Magical Dragon'], '57143342': [0, 'Cir, Malebranche of the Burning Abyss'], '24508238': [0, 'D.D. Crow'], '91800273': [0, 'Dimension Shifter'], '95679145': [0, 'Dogmatika Maximus'], '06417578': [0, 'El Shaddoll Fusion'], '78661338': [0, 'Fantastical Dragon Phantazmay'], '81439173': [0, 'Foolish Burial'], '36956512': [0, 'Gadarla, the Mystery Dust Kaiju'], '73642296': [0, 'Ghost Belle & Haunted Mansion'], '80280944': [0, 'Giant Rex'], '20758643': [0, 'Graff, Malebranche of the Burning Abyss'], '61740673': [0, 'Imperial Order'], '38342335': [0, 'Knightmare Unicorn'], '28692962': [0, 'Mekk-Knight Purple Nightfall'], '70333910': [0, 'Noctovision Dragon'], '38761908': [0, 'Paleozoic Dinomischus'], '71278040': [0, 'Parallel eXceed'], '82946847': [0, 'Petiteranodon'], '98645731': [0, 'Pot of Duality'], '17382973': [0, 'Prank-Kids Dodo-Doodle-Doo'], '55725117': [0, 'Prank-Kids Dropsies'], '18236002': [0, 'Prank-Kids Lampsies'], '25725326': [0, 'Prank-Kids Meow-Meow-Mu'], '31440046': [0, 'Prank-Kids Rocksies'], '88264978': [0, 'Red-Eyes Darkness Metal Dragon'], '92353449': [0, 'Red-Eyes Insight'], '67300516': [0, 'Red-Eyes Wyvern'], '32807846': [0, 'Reinforcement of the Army'], '77723643': [0, 'Shaddoll Dragon'], '72330894': [0, 'Simorgh, Bird of Sovereignty'], '67750322': [0, 'Skull Meister'], '36426778': [0, 'The Phantom Knights of Silent Boots'], '24207889': [0, 'There Can Be Only One'], '41373230': [0, 'Titaniklad the Ash Dragon'], '80101899': [0, 'Trap Trick'], '87209160': [0, 'Tri-Brigade Fraktall'], '50810455': [0, 'Tri-Brigade Kerass'], '56196385': [0, 'Tri-Brigade Kitt'], '14816857': [0, 'Tri-Brigade Nervall'], '70368879': [0, 'Upstart Goblin'], '13364097': [0, 'Virtual World Gate - Chuche'], '50275295': [0, 'Virtual World Gate - Qinglong'], '08736823': [0, 'Virtual World Hime - Nyannyan'], '49088914': [0, 'Virtual World Mai-Hime - Lulu'], '48905153': [0, 'Zoodiac Drident'], '31755044': [0, 'Zoodiac Whiptail'], '01475311': [0, 'Allure of Darkness'], '73304257': [0, 'Alpha, the Master of Beasts'], '58699500': [0, 'Cherubini, Ebon Angel of the Burning Abyss'], '50954680': [0, 'Crystal Wing Synchro Dragon'], '60600126': [0, 'Cyber Emergency'], '57160136': [0, 'Cynet Mining'], '32104431': [1, 'Destruction Sword Memories'], '97268402': [0, 'Effect Veiler'], '59438930': [0, 'Ghost Ogre & Snow Rabbit'], '69811710': [0, 'Girsu, the Orcust Mekk-Knight'], '23656668': [0, 'Gravity Controller'], '97300502': [0, 'Invoked Augoeides'], '98978921': [0, 'Link Spider'], '97949165': [1, 'Lyrilusc - Turquoise Warbler'], '20537097': [0, 'Mekk-Knight Blue Sky'], '74586817': [0, 'PSY-Framelord Omega'], '81119816': [0, 'Prank-Kids Fansies'], '79059098': [0, 'Prank-Kids Pandemonium'], '16269385': [0, 'Prank-Kids Place'], '43664494': [0, 'Prank-Kids Pranks'], '33280639': [1, 'Prologue of the Destruction Swordsman'], '23912837': [0, 'Resh Shaddoll Incarnation'], '14812471': [0, 'Salamangreat Balelynx'], '01295111': [0, 'Salamangreat Sanctuary'], '08491308': [0, 'Sky Striker Ace - Hayate'], '26077387': [0, 'Sky Striker Ace - Raye'], '90673288': [0, 'Sky Striker Ace - Shizuku'], '98338152': [0, 'Sky Striker Mecha - Widow Anchor'], '74762582': [0, 'Subterror Fiendess'], '16428514': [0, 'Subterror Guru'], '23516703': [0, 'Summon Limit'], '05697558': [0, 'The Hidden City'], '90432163': [0, 'The Phantom Knights of Ancient Cloak'], '26692769': [0, 'The Phantom Knights of Rusty Bardiche'], '98827725': [0, 'The Phantom Knights of Shade Brigandine'], '25538345': [0, 'The Phantom Knights of Torn Scales'], '10802915': [0, 'Tour Guide From the Underworld'], '26847978': [0, 'Tri-Brigade Ferrijit the Barren Blossom'], '43898403': [0, 'Twin Twisters'], '14886190': [0, 'Virtual World City - Kauwloon'], '18249921': [0, 'Virtual World Gate - Xuanwu'], '49966326': [0, 'Virtual World Kirin - Lili'], '92519087': [0, 'Virtual World Kyubi - Shenshen'], '86483512': [0, 'Virtual World Roshi - Laolao'], '12571621': [0, 'Virtual World Xiezhi - Jiji'], '46060017': [0, 'Zoodiac Barrage'], '74393852': [0, 'Zoodiac Boarbow'], '04367330': [0, 'Zoodiac Bunnyblast'], '41375811': [0, 'Zoodiac Chakanine'], '11510448': [0, 'Zoodiac Tigermortar'], '11302671': [0, 'Adamancipator Analyzer'], '85914562': [0, 'Adamancipator Researcher'], '48519867': [0, 'Adamancipator Seeker'], '72957245': [1, 'Adamancipator Signs'], '53143898': [0, 'Altergeist Marionetter'], '25533642': [0, 'Altergeist Meluseek'], '42790071': [0, 'Altergeist Multifaker'], '27541563': [1, 'Altergeist Protocol'], '89538537': [0, 'Altergeist Silquitous'], '03428069': [1, 'Buster Blader, the Destruction Swordmaster'], '86240887': [1, 'Buster Blader, the Dragon Destroyer Swordsman'], '11790356': [1, 'Buster Dragon'], '49823708': [1, 'Buster Whelp of the Destruction Swordsman'], '77235086': [0, 'Cyber Angel Benten'], '42143067': [1, 'Doki Doki'], '97148796': [0, 'Drytron Alpha Thuban'], '96026108': [1, 'Drytron Zeta Aldhibah'], '67723438': [0, 'Emergency Teleport'], '35726888': [1, 'Foolish Burial Goods'], '71197066': [0, 'Gizmek Orochi, the Serpentron Sky Slasher'], '85696777': [1, 'Harpie Conductor'], '09753964': [0, 'Hot Red Dragon Archfiend Abyss'], '01845204': [0, 'Instant Fusion'], '59934749': [0, 'Isolde, Two Tales of the Noble Knights'], '45041488': [0, \"Koa'ki Meiru Guardian\"], '34550857': [0, 'Lyrilusc - Cobalt Sparrow'], '97631303': [0, \"Magicians' Souls\"], '95492061': [1, 'Manju of the Ten Thousand Hands'], '92204263': [0, 'Mekk-Knight Indigo Eclipse'], '89208725': [1, 'Metaverse'], '02295440': [0, 'One for One'], '08802510': [0, 'PSY-Framelord Lambda'], '25542642': [0, \"Phantom Knights' Fog Blade\"], '24094653': [0, 'Polymerization'], '43886072': [0, 'Prank-Kids Bow-Wow-Bark'], '18514525': [0, 'Prank-Kids Rocket Ride'], '29296344': [0, 'Quadborrel Dragon'], '94620082': [0, 'Salamangreat Foxy'], '26889158': [0, 'Salamangreat Gazelle'], '56003780': [0, 'Salamangreat Jack Jaguar'], '52277807': [0, 'Salamangreat Spinny'], '87871125': [0, 'Salamangreat Sunlight Wolf'], '63288573': [0, 'Sky Striker Ace - Kagari'], '50005218': [0, 'Sky Striker Airspace - Area Zero'], '74640994': [1, 'Subterror Final Battle'], '90809975': [1, 'Toadally Awesome'], '96378317': [1, 'Tri-Brigade Rendezvous'], '99726621': [1, 'Tri-Brigade Shuraig the Ominous Omen'], '01686814': [1, 'Ultimaya Tzolkin'], '78872731': [0, 'Zoodiac Ratpier'], '21044178': [1, 'Abyss Dweller'], '73079836': [1, 'Adamancipator Risen - Raptite'], '65711558': [0, 'Ancient Warriors Oath - Double Dragon Lords'], '50277355': [1, 'Cross-Sheep'], '70095154': [1, 'Cyber Dragon'], '23893227': [1, 'Cyber Dragon Core'], '43316238': [0, 'Danger! Bigfoot!'], '90807199': [1, 'Danger! Thunderbird!'], '83531441': [1, 'Dante, Traveler of the Burning Abyss'], '09411399': [1, 'Destiny HERO - Malicious'], '93332803': [1, 'Dogoran, the Mad Flame Kaiju'], '76218313': [2, 'Dragon Buster Destruction Sword'], '60037599': [1, 'Drytron Gamma Eltanin'], '94187078': [1, 'Drytron Nova'], '50720316': [0, 'Elemental HERO Shadow Mist'], '40044918': [1, 'Elemental HERO Stratos'], '42752141': [0, 'Evolzar Dolkka'], '80794697': [1, 'Flame Bufferlo'], '30741503': [1, 'Galatea, the Orcust Automaton'], '46659709': [1, 'Galaxy Soldier'], '79606837': [0, 'Herald of the Arc Light'], '12307878': [1, 'Invoked Purgatrio'], '80839052': [1, \"Koa'ki Meiru Supplier\"], '39752820': [1, 'Lib the World Key Blademaster'], '34959756': [1, 'Living Fossil'], '60954556': [1, 'Lyrilusc - Sapphire Swallow'], '78990927': [1, 'Megalith Phul'], '22398665': [1, 'Meteonis Drytron'], '29587993': [1, 'Mist Valley Apex Avian'], '47355498': [2, 'Necrovalley'], '21441617': [2, 'Orcust Cymbal Skeleton'], '04055337': [1, 'Orcust Knightmare'], '53936268': [1, 'Personal Spoofing'], '81997228': [0, 'Prank-Kids Battle Butler'], '96729612': [1, 'Preparation of Rites'], '23002292': [1, 'Red Reboot'], '01357146': [1, 'Ronintoadin'], '74997493': [1, 'Saryuja Skull Dread'], '84764038': [1, 'Scarm, Malebranche of the Burning Abyss'], '37351133': [0, 'Sky Striker Ace - Roze'], '99550630': [0, 'Sky Striker Maneuver - Afterburners!'], '51227866': [0, 'Sky Striker Mecha - Shark Cannon'], '24010609': [1, 'Sky Striker Mecha Modules - Multirole'], '64880894': [1, 'Stardust Charge Warrior'], '09126351': [1, 'Swap Frog'], '63821877': [1, 'The Phantom Knights of Ragged Gloves'], '46947713': [1, 'Transcode Talker'], '20799347': [1, 'Virtual World Oto-Hime - Toutou'], '27780618': [1, 'Vision HERO Vyon'], '14970113': [0, 'Zoodiac Hammerkong'], '10286023': [2, 'Adamancipator Crystal - Dragite'], '58921041': [1, 'Anti-Spell Fragrance'], '77411244': [2, 'B-Buster Drake'], '03405259': [2, 'C-Crush Wyvern'], '36975314': [1, 'Crackdown'], '56364287': [1, 'Cyber Dragon Herz'], '43694650': [2, 'Danger!? Jackalope?'], '94693857': [2, 'Deskbot 001'], '31423101': [1, 'Divine Sword - Phoenix Blade'], '68829754': [1, 'Eldlixir of Black Awakening'], '59392529': [2, 'Elemental HERO Liquid Soldier'], '36553319': [1, 'Farfa, Malebranche of the Burning Abyss'], '36584821': [1, 'Gren Maju Da Eiza'], '63941210': [1, 'Jizukiru, the Star Destroying Kaiju'], '19353570': [1, 'Kagemucha Knight'], '77848740': [1, 'Madolche Petingcessoeur'], '21143940': [2, 'Mask Change'], '63056220': [2, 'Megalith Ophiel'], '94259633': [1, 'Relinquished Anima'], '51339637': [1, 'Salamangreat Roar'], '45819647': [2, 'Selene, Queen of the Master Magicians'], '73468603': [2, 'Set Rotation'], '52340444': [1, 'Sky Striker Mecha - Hornet Drones'], '62709239': [1, 'The Phantom Knights of Break Sword'], '38120068': [1, 'Trade-In'], '52331012': [2, 'Tri-Brigade Rugal the Silver Sheller'], '31588572': [2, 'Unchained Twins - Sarama'], '18094166': [1, 'Vision HERO Faris'], '64178424': [2, 'Will of the Salamangreat'], '93920420': [1, 'World Legacy - \"World Wand\"'], '99674361': [1, 'World Legacy Succession'], '04064256': [2, 'Zombie World']}\n"
     ]
    }
   ],
   "source": [
    "import requests\n",
    "\n",
    "most_used_cards = {}\n",
    "for titles in title_collection:    \n",
    "\n",
    "    S = requests.Session()\n",
    "\n",
    "    URL = \"https://yugipedia.com/api.php\"\n",
    "\n",
    "    PARAMS = {\n",
    "        \"action\": \"query\",\n",
    "        \"prop\": \"revisions\",\n",
    "        \"titles\": titles,\n",
    "        \"rvprop\": \"content\",\n",
    "        \"format\": \"json\"\n",
    "    }\n",
    "\n",
    "    R = S.get(url=URL, params=PARAMS)\n",
    "    print(R)\n",
    "    data = R.json()\n",
    "\n",
    "    #print(data)\n",
    "\n",
    "    pages = data[\"query\"][\"pages\"]\n",
    "    #print(pages)\n",
    "\n",
    "    for page in pages:\n",
    "        card_name = pages[page][\"title\"]\n",
    "        page_text = pages[page][\"revisions\"][0][\"*\"]\n",
    "        #print(page_text)\n",
    "\n",
    "        skip_alternate_password = page_text.rfind(\"alternate password\")\n",
    "        password_location = 0\n",
    "        if skip_alternate_password == -1:\n",
    "            password_location = page_text.find(\"password\")\n",
    "        else:\n",
    "            password_location = page_text.find(\"password\", skip_alternate_password+len(\"alternate password\"))\n",
    "            \n",
    "        password_start = page_text.find(\"=\", password_location)+1\n",
    "        password_end = page_text.find(\"|\", password_location)\n",
    "        password = page_text[password_start:password_end].replace(\" \", \"\").strip()\n",
    "\n",
    "        card_appearance = most_used_cards_ygoscope[card_name]\n",
    "        most_used_cards[password] = [convert_to_ban(card_appearance, 1000, 300), card_name]\n",
    "        #most_used_cards[password] = [card_appearance, card_name]\n",
    "\n",
    "print(most_used_cards)"
   ]
  },
  {
   "cell_type": "code",
   "execution_count": 8,
   "metadata": {},
   "outputs": [
    {
     "name": "stdout",
     "output_type": "stream",
     "text": [
      "{'53804307': [0, 'Blaster, Dragon Ruler of Infernos'], '94689206': [0, 'Block Dragon'], '34124316': [0, 'Cyber Jar'], '8903700': [0, 'Djinn Releaser of Rituals'], '51858306': [0, 'Eclipse Wyvern'], '78706415': [0, 'Fiber Jar'], '93369354': [0, 'Fishborg Blaster'], '9742784': [0, 'Jet Synchron'], '34206604': [0, 'Magical Scientist'], '31178212': [0, 'Majespecter Unicorn - Kirin'], '72291078': [0, 'Mecha Phantom Beast O-Lion'], '96782886': [0, 'Mind Master'], '7563579': [0, 'Performage PlushFire'], '17330916': [0, 'Performapal Monkeyboard'], '90411554': [0, 'Redox, Dragon Ruler of Boulders'], '20663556': [0, 'Substitoad'], '88071625': [0, 'The Tyrant Neptune'], '26400609': [0, 'Tidal, Dragon Ruler of Waterfalls'], '44910027': [0, 'Victory Dragon'], '3078576': [0, 'Yata-Garasu'], '9929398': [0, 'Blackwing - Gofu the Vague Shadow'], '15341821': [0, 'Dandylion'], '40318957': [0, 'Performapal Skullcrobat Joker'], '57421866': [0, 'Level Eater'], '23434538': [0, 'Maxx \"C\"'], '76794549': [0, 'Astrograph Sorcerer'], '21377582': [0, 'Master Peace, The True Dracoslaying King'], '23558733': [0, 'Phoenixian Cluster Amaryllis'], '5592689': [0, 'Samsara Lotus'], '75732622': [0, 'Grinder Golem'], '55623480': [0, 'Fairy Tail â€“ Snow'], '57835716': [0, 'Orcust Harp Horror'], '9047460': [0, 'Blackwing - Steam the Cloak'], '5560911': [0, 'Destrudo the Lost Dragonâ€™s Frisson'], '67441435': [0, 'Glow-up Bulb'], '83190280': [0, 'Lunalight Tiger'], '91258852': [0, 'SPYRAL Master Plan'], '17412721': [0, 'Elder Entity Norden'], '43387895': [0, 'Supreme King Dragon Starving Venom'], '15291624': [0, 'Thunder Dragon Colossus'], '65536818': [0, 'Denglong, First of the Yang Zing'], '25862681': [0, 'Ancient Fairy Dragon'], '34086406': [0, 'Lavalval Chain'], '94677445': [0, 'Ib the World Chalice Justiciar'], '63101919': [0, 'Tempest Magician'], '18326736': [0, 'Tellarknight Ptolomaeus'], '81122844': [0, 'Wind-Up Carrier Zenmaity'], '85115440': [0, 'Zoodiac Broadbull'], '54719828': [0, 'Number 16: Shock Master'], '10389142': [0, 'Number 42: Galaxy Tomahawk'], '63504681': [0, 'Number 86: Heroic Champion â€“ Rhongomyniad'], '58820923': [0, 'Number 95: Galaxy-Eyes Dark Matter Dragon'], '34945480': [0, 'Outer Entity Azathot'], '87327776': [0, 'Salamangreat Miragestallio'], '4423206': [0, 'M-X-Saber Invoker'], '52653092': [0, 'Number S0: Utopic ZEXAL'], '88581108': [0, 'True King of All Calamities'], '39064822': [0, 'Knightmare Goblin'], '5043010': [0, 'Firewall Dragon'], '22593417': [0, 'Topologic Gumblar Dragon'], '61665245': [0, 'Summon Sorceress'], '3679218': [0, 'Knightmare Mermaid'], '85243784': [0, 'Linkross'], '59537380': [0, 'Guardragon Agarpain'], '24094258': [0, 'Heavymetalfoes Electrumite'], '83152482': [0, 'Union Carrier'], '69243953': [0, 'Butterfly Dagger - Elma'], '57953380': [0, 'Card of Safe Return'], '4031928': [0, 'Change of Heart'], '67616300': [0, 'Chicken Game'], '60682203': [0, 'Cold Wave'], '17375316': [0, 'Confiscation'], '44763025': [0, 'Deliquent Duo'], '23557835': [0, 'Dimension Fusion'], '42703248': [0, 'Giant Trunade'], '79571449': [0, 'Graceful Charity'], '35059553': [0, 'Kaiser Colloseum'], '19613556': [0, 'Heavy Storm'], '85602018': [0, 'Last Will'], '46411259': [0, 'Metamorphosis'], '74191942': [0, 'Painful Choice'], '63166095': [0, 'Sky Striker Mobilize â€“ Engage!'], '63789924': [0, 'Smoke Grenade of the Thief'], '55144522': [0, 'Pot of greed'], '34906152': [0, 'Mass Driver'], '41482598': [0, 'Mirage of Nightmare'], '7394770': [0, 'Brilliant Fusion'], '70828912': [0, 'Premature Burial'], '45986603': [0, 'Snatch Steal'], '46448938': [0, 'Spellbook of Judgement'], '42829885': [0, 'The Forceful Sentry'], '11110587': [0, 'That Grass Looks Greener'], '54447022': [0, 'Soul Charge'], '28566710': [0, 'Last Turn'], '27174286': [0, 'Return from the Different Dimension'], '93016201': [0, 'Royal Oppression'], '57585212': [0, 'Self-Destruct Button'], '3280747': [0, 'Sixth Sense'], '35316708': [0, 'Time Seal'], '64697231': [0, 'Trap Dustshot'], '80604091': [0, 'Ultimate Offering'], '80604092': [0, 'Ultimate Offering'], '5851097': [0, \"Vanity's Emptiness\"], '7902349': [1, 'Left Arm of the forbidden one'], '44519536': [1, 'Left Leg of the forbidden one'], '70903634': [1, 'Right Arm of the forbidden one'], '8124921': [1, 'Right Leg of the forbidden one'], '61901281': [1, 'Black Dragon Collapserpent'], '33396948': [1, 'Exodia the Forbidden One'], '64034255': [1, 'Genex Ally birdman'], '99177923': [1, 'Infernity Archfiend'], '16226786': [1, 'Night Assailant'], '88264978': [1, 'Red-Eyes Darkness Metal Dragon'], '61740673': [1, 'Imperial Order'], '89399912': [1, 'Tempest, Dragon Ruler of Storms'], '26889158': [1, 'Salamangreat Gazelle'], '81275020': [1, 'Speedroid Terrortop'], '99234526': [1, 'White Dragon Wyverburster'], '78872731': [1, 'Zoodiac Ratpier'], '78080961': [1, 'SPYRAL Quik-Fix'], '58984738': [1, 'Dinomight Knight, the True Dracofighter'], '49684352': [1, 'Double Iris Magician'], '33508719': [1, 'Morphing Jar'], '28985331': [1, 'Armageddon Knight'], '14536035': [1, 'Dark Grepher'], '69015963': [1, 'Cyber Stein'], '12958919': [1, 'Phantom Skyblaster'], '70711847': [1, 'Danger! Nessie!'], '43694650': [1, 'Danger!? Jackalope?'], '99745551': [1, 'Danger!? Tsuchinoko?'], '82385847': [1, 'Dinowrestler Pankratops'], '92559258': [1, 'Servant of Endymion'], '30539496': [1, 'True King Lithosagym, the Disaster'], '77235086': [1, 'Cyber Angel Benten'], '39512984': [1, 'Gem-Knight Master Diamond '], '90953320': [1, 'T.G. Hyper Librarian'], '52687916': [1, 'Trishula, Dragon of the Ice Barrier'], '74586817': [1, 'Psy-Framelord Omega'], '27552504': [1, 'Beatrice, Lady of Eternal'], '581014': [1, 'Daigusto Emeral'], '48905153': [1, 'Zoodiac Drident'], '81674782': [1, 'Dimensional Fissure '], '95308449': [1, 'Final Countdown'], '81439173': [1, 'Foolish Burial'], '18144506': [1, \"Harpie's Feather Duster\"], '66957584': [1, 'Infernity Launcher'], '33782437': [1, 'One Day of Peace'], '2295440': [1, 'One for One'], '12580477': [1, 'Raigeki'], '32807846': [1, 'Reinforcement of the Army'], '52155219': [1, 'Salamangreat Circle'], '24010609': [1, 'Sky Striker Mecha Modules - Multirole'], '45305419': [1, 'Symbol of Heritage'], '14733538': [1, 'Draco Face-off'], '73468603': [1, 'Set Rotation'], '73628505': [1, 'Terraforming'], '35371948': [1, 'Trickstar Light Stage'], '58577036': [1, 'Reasoning'], '27970830': [1, 'Gateway of the Six'], '70368879': [1, 'Upstart Goblin'], '83764718': [1, 'Monster Reborn'], '83764719': [1, 'Monster Reborn'], '71344451': [1, 'Slash Draw'], '75500286': [1, 'Gold Sarcophagus'], '59750328': [1, 'Card of Demise'], '93946239': [1, 'Into the Void'], '24940422': [1, \"Sekka's Light\"], '67723438': [1, 'Emergency Teleporter'], '15854426': [1, 'Divine Wind of the Mist Valley'], '54631665': [1, 'SPYRAL Resort'], '71650854': [1, 'Magical Mid-Breaker Field'], '13035077': [1, 'Dragonic Diagram'], '91623717': [1, 'Chain Strike'], '8949584': [1, 'A Hero Lives'], '72892473': [1, 'Card Destruction'], '24224830': [1, 'Called by the Grave'], '52340444': [1, 'Sky Striker Mecha - Hornet Drones'], '73915051': [1, 'Scapegoat'], '1845204': [1, 'Instant Fusion'], '37520316': [1, 'Mind Control'], '46060017': [1, 'Zoodiac Barrage'], '32723153': [1, 'Magical Explosion'], '82732705': [1, 'Skill Drain'], '30241314': [1, 'Macro Cosmos'], '89208725': [1, 'Metaverse'], '17078030': [1, 'Wall of Revealing light'], '23002292': [1, 'Red Reboot'], '9411399': [2, 'Destiny HERO - Malicious']}\n"
     ]
    }
   ],
   "source": [
    "lfin_filename = \"0TCG.lflist.conf\"\n",
    "\n",
    "lfin_file = open(lfin_filename, 'r')\n",
    "lines = lfin_file.readlines()\n",
    "#print(lines)\n",
    "\n",
    "lf_data = {}\n",
    "\n",
    "for line in lines:\n",
    "    if line[0] == '#' or line[0] == '!':\n",
    "        continue\n",
    "    #print (line.strip())\n",
    "\n",
    "    first_space = line.find(\" \")\n",
    "    second_space = line.find(\" \", first_space+1)\n",
    "    \n",
    "    end_line = line.find(\"\\t\")\n",
    "    if end_line == -1:\n",
    "        end_line = second_space+1\n",
    "        next_space = line.find(\" \", end_line)\n",
    "        while next_space != -1 and next_space > end_line:\n",
    "            end_line = next_space+1\n",
    "            next_space = line.find(\" \", end_line)\n",
    "    \n",
    "        end_line = next_space        \n",
    "    \n",
    "    lf_data[line[:first_space]] = [int(line[first_space+1:second_space])\n",
    "                                 , line[second_space+3:end_line]]\n",
    "    \n",
    "print (lf_data)"
   ]
  },
  {
   "cell_type": "code",
   "execution_count": 9,
   "metadata": {},
   "outputs": [
    {
     "name": "stdout",
     "output_type": "stream",
     "text": [
      "{'53804307': [0, 'Blaster, Dragon Ruler of Infernos'], '94689206': [0, 'Block Dragon'], '34124316': [0, 'Cyber Jar'], '8903700': [0, 'Djinn Releaser of Rituals'], '51858306': [0, 'Eclipse Wyvern'], '78706415': [0, 'Fiber Jar'], '93369354': [0, 'Fishborg Blaster'], '9742784': [0, 'Jet Synchron'], '34206604': [0, 'Magical Scientist'], '31178212': [0, 'Majespecter Unicorn - Kirin'], '72291078': [0, 'Mecha Phantom Beast O-Lion'], '96782886': [0, 'Mind Master'], '7563579': [0, 'Performage PlushFire'], '17330916': [0, 'Performapal Monkeyboard'], '90411554': [0, 'Redox, Dragon Ruler of Boulders'], '20663556': [0, 'Substitoad'], '88071625': [0, 'The Tyrant Neptune'], '26400609': [0, 'Tidal, Dragon Ruler of Waterfalls'], '44910027': [0, 'Victory Dragon'], '3078576': [0, 'Yata-Garasu'], '9929398': [0, 'Blackwing - Gofu the Vague Shadow'], '15341821': [0, 'Dandylion'], '40318957': [0, 'Performapal Skullcrobat Joker'], '57421866': [0, 'Level Eater'], '23434538': [0, 'Maxx \"C\"'], '76794549': [0, 'Astrograph Sorcerer'], '21377582': [0, 'Master Peace, The True Dracoslaying King'], '23558733': [0, 'Phoenixian Cluster Amaryllis'], '5592689': [0, 'Samsara Lotus'], '75732622': [0, 'Grinder Golem'], '55623480': [0, 'Fairy Tail â€“ Snow'], '57835716': [0, 'Orcust Harp Horror'], '9047460': [0, 'Blackwing - Steam the Cloak'], '5560911': [0, 'Destrudo the Lost Dragonâ€™s Frisson'], '67441435': [0, 'Glow-up Bulb'], '83190280': [0, 'Lunalight Tiger'], '91258852': [0, 'SPYRAL Master Plan'], '17412721': [0, 'Elder Entity Norden'], '43387895': [0, 'Supreme King Dragon Starving Venom'], '15291624': [0, 'Thunder Dragon Colossus'], '65536818': [0, 'Denglong, First of the Yang Zing'], '25862681': [0, 'Ancient Fairy Dragon'], '34086406': [0, 'Lavalval Chain'], '94677445': [0, 'Ib the World Chalice Justiciar'], '63101919': [0, 'Tempest Magician'], '18326736': [0, 'Tellarknight Ptolomaeus'], '81122844': [0, 'Wind-Up Carrier Zenmaity'], '85115440': [0, 'Zoodiac Broadbull'], '54719828': [0, 'Number 16: Shock Master'], '10389142': [0, 'Number 42: Galaxy Tomahawk'], '63504681': [0, 'Number 86: Heroic Champion â€“ Rhongomyniad'], '58820923': [0, 'Number 95: Galaxy-Eyes Dark Matter Dragon'], '34945480': [0, 'Outer Entity Azathot'], '87327776': [0, 'Salamangreat Miragestallio'], '4423206': [0, 'M-X-Saber Invoker'], '52653092': [0, 'Number S0: Utopic ZEXAL'], '88581108': [0, 'True King of All Calamities'], '39064822': [0, 'Knightmare Goblin'], '5043010': [0, 'Firewall Dragon'], '22593417': [0, 'Topologic Gumblar Dragon'], '61665245': [0, 'Summon Sorceress'], '3679218': [0, 'Knightmare Mermaid'], '85243784': [0, 'Linkross'], '59537380': [0, 'Guardragon Agarpain'], '24094258': [0, 'Heavymetalfoes Electrumite'], '83152482': [0, 'Union Carrier'], '69243953': [0, 'Butterfly Dagger - Elma'], '57953380': [0, 'Card of Safe Return'], '4031928': [0, 'Change of Heart'], '67616300': [0, 'Chicken Game'], '60682203': [0, 'Cold Wave'], '17375316': [0, 'Confiscation'], '44763025': [0, 'Deliquent Duo'], '23557835': [0, 'Dimension Fusion'], '42703248': [0, 'Giant Trunade'], '79571449': [0, 'Graceful Charity'], '35059553': [0, 'Kaiser Colloseum'], '19613556': [0, 'Heavy Storm'], '85602018': [0, 'Last Will'], '46411259': [0, 'Metamorphosis'], '74191942': [0, 'Painful Choice'], '63166095': [0, 'Sky Striker Mobilize â€“ Engage!'], '63789924': [0, 'Smoke Grenade of the Thief'], '55144522': [0, 'Pot of greed'], '34906152': [0, 'Mass Driver'], '41482598': [0, 'Mirage of Nightmare'], '7394770': [0, 'Brilliant Fusion'], '70828912': [0, 'Premature Burial'], '45986603': [0, 'Snatch Steal'], '46448938': [0, 'Spellbook of Judgement'], '42829885': [0, 'The Forceful Sentry'], '11110587': [0, 'That Grass Looks Greener'], '54447022': [0, 'Soul Charge'], '28566710': [0, 'Last Turn'], '27174286': [0, 'Return from the Different Dimension'], '93016201': [0, 'Royal Oppression'], '57585212': [0, 'Self-Destruct Button'], '3280747': [0, 'Sixth Sense'], '35316708': [0, 'Time Seal'], '64697231': [0, 'Trap Dustshot'], '80604091': [0, 'Ultimate Offering'], '80604092': [0, 'Ultimate Offering'], '5851097': [0, \"Vanity's Emptiness\"], '7902349': [1, 'Left Arm of the forbidden one'], '44519536': [1, 'Left Leg of the forbidden one'], '70903634': [1, 'Right Arm of the forbidden one'], '8124921': [1, 'Right Leg of the forbidden one'], '61901281': [0, 'Black Dragon Collapserpent'], '33396948': [1, 'Exodia the Forbidden One'], '64034255': [1, 'Genex Ally birdman'], '99177923': [1, 'Infernity Archfiend'], '16226786': [1, 'Night Assailant'], '88264978': [0, 'Red-Eyes Darkness Metal Dragon'], '61740673': [0, 'Imperial Order'], '89399912': [1, 'Tempest, Dragon Ruler of Storms'], '26889158': [0, 'Salamangreat Gazelle'], '81275020': [1, 'Speedroid Terrortop'], '99234526': [0, 'White Dragon Wyverburster'], '78872731': [0, 'Zoodiac Ratpier'], '78080961': [1, 'SPYRAL Quik-Fix'], '58984738': [1, 'Dinomight Knight, the True Dracofighter'], '49684352': [1, 'Double Iris Magician'], '33508719': [1, 'Morphing Jar'], '28985331': [1, 'Armageddon Knight'], '14536035': [1, 'Dark Grepher'], '69015963': [1, 'Cyber Stein'], '12958919': [1, 'Phantom Skyblaster'], '70711847': [1, 'Danger! Nessie!'], '43694650': [1, 'Danger!? Jackalope?'], '99745551': [1, 'Danger!? Tsuchinoko?'], '82385847': [0, 'Dinowrestler Pankratops'], '92559258': [1, 'Servant of Endymion'], '30539496': [1, 'True King Lithosagym, the Disaster'], '77235086': [0, 'Cyber Angel Benten'], '39512984': [1, 'Gem-Knight Master Diamond '], '90953320': [1, 'T.G. Hyper Librarian'], '52687916': [1, 'Trishula, Dragon of the Ice Barrier'], '74586817': [0, 'Psy-Framelord Omega'], '27552504': [1, 'Beatrice, Lady of Eternal'], '581014': [1, 'Daigusto Emeral'], '48905153': [0, 'Zoodiac Drident'], '81674782': [1, 'Dimensional Fissure '], '95308449': [1, 'Final Countdown'], '81439173': [0, 'Foolish Burial'], '18144506': [0, \"Harpie's Feather Duster\"], '66957584': [1, 'Infernity Launcher'], '33782437': [1, 'One Day of Peace'], '2295440': [1, 'One for One'], '12580477': [1, 'Raigeki'], '32807846': [0, 'Reinforcement of the Army'], '52155219': [1, 'Salamangreat Circle'], '24010609': [1, 'Sky Striker Mecha Modules - Multirole'], '45305419': [1, 'Symbol of Heritage'], '14733538': [1, 'Draco Face-off'], '73468603': [1, 'Set Rotation'], '73628505': [0, 'Terraforming'], '35371948': [1, 'Trickstar Light Stage'], '58577036': [1, 'Reasoning'], '27970830': [1, 'Gateway of the Six'], '70368879': [0, 'Upstart Goblin'], '83764718': [0, 'Monster Reborn'], '83764719': [0, 'Monster Reborn'], '71344451': [1, 'Slash Draw'], '75500286': [1, 'Gold Sarcophagus'], '59750328': [1, 'Card of Demise'], '93946239': [1, 'Into the Void'], '24940422': [1, \"Sekka's Light\"], '67723438': [0, 'Emergency Teleporter'], '15854426': [1, 'Divine Wind of the Mist Valley'], '54631665': [1, 'SPYRAL Resort'], '71650854': [1, 'Magical Mid-Breaker Field'], '13035077': [1, 'Dragonic Diagram'], '91623717': [1, 'Chain Strike'], '8949584': [1, 'A Hero Lives'], '72892473': [1, 'Card Destruction'], '24224830': [0, 'Called by the Grave'], '52340444': [1, 'Sky Striker Mecha - Hornet Drones'], '73915051': [1, 'Scapegoat'], '1845204': [1, 'Instant Fusion'], '37520316': [1, 'Mind Control'], '46060017': [0, 'Zoodiac Barrage'], '32723153': [1, 'Magical Explosion'], '82732705': [1, 'Skill Drain'], '30241314': [1, 'Macro Cosmos'], '89208725': [1, 'Metaverse'], '17078030': [1, 'Wall of Revealing light'], '23002292': [1, 'Red Reboot'], '9411399': [2, 'Destiny HERO - Malicious'], '86120751': [0, 'Aleister the Invoker'], '98022050': [0, 'Animadorned Archosaur'], '34267821': [0, 'Artifact Lancea'], '14558127': [0, 'Ash Blossom & Joyous Spring'], '36668118': [0, 'Boot Sector Launch'], '20590515': [0, 'Conquistador of the Golden Land'], '08267140': [0, 'Cosmic Cyclone'], '31434645': [0, 'Cursed Eldland'], '46986414': [0, 'Dark Magician'], '54693926': [0, 'Dark Ruler No More'], '60303688': [0, 'Dogmatika Ecclesia, the Virtuous'], '82956214': [0, 'Dogmatika Punishment'], '94145021': [0, 'Droll & Lock Bird'], '50907446': [0, 'El Shaddoll Apkallone'], '95440946': [0, 'Eldlich the Golden Lord'], '20612097': [0, 'Eldlixir of Scarlet Sanguine'], '57103969': [0, 'Fire Formation - Tenki'], '24299458': [0, 'Forbidden Droplet'], '93191801': [0, 'Huaquero of the Golden Land'], '10045474': [0, 'Infinite Impermanence'], '74063034': [0, 'Invocation'], '75286621': [0, 'Invoked Mechaba'], '14532163': [0, 'Lightning Storm'], '41999284': [0, 'Linkuriboh'], '47679935': [0, 'Magical Meltdown'], '38572779': [0, 'Miscellaneousaurus'], '76375976': [0, 'Mystic Mine'], '01984618': [0, 'Nadir Servant'], '27204311': [0, 'Nibiru, the Primal Being'], '49036338': [0, 'PSY-Frame Driver'], '38814750': [0, 'PSY-Framegear Gamma'], '35261759': [0, 'Pot of Desires'], '49238328': [0, 'Pot of Extravagance'], '84211599': [0, 'Pot of Prosperity'], '70369116': [0, 'Predaplant Verte Anaconda'], '74677422': [0, 'Red-Eyes Black Dragon'], '37818794': [0, 'Red-Eyes Dark Dragoon'], '06172122': [0, 'Red-Eyes Fusion'], '68464358': [0, 'Rokket Tracer'], '60303245': [0, 'Salamangreat Almiraj'], '02220237': [0, 'Secure Gardna'], '41420027': [0, 'Solemn Judgment'], '40605147': [0, 'Solemn Strike'], '44335251': [0, 'Souleating Oviraptor'], '73539069': [0, 'Striker Dragon'], '25311006': [0, 'Triple Tactics Talent'], '67748760': [0, 'Absorouter Dragon'], '86066372': [0, 'Accesscode Talker'], '04280258': [0, 'Apollousa, Bow of the Goddess'], '34755994': [0, 'Artemis, the Magistus Moon Maiden'], '36042004': [0, 'Babycerasaurus'], '27548199': [0, 'Borreload Savage Dragon'], '32600024': [0, 'Chamber Dragonmaid'], '55878038': [0, 'Chaos Dragon Levianeer'], '99266988': [0, 'Chaos Space'], '50588353': [0, 'Crystron Halqifibrax'], '90448279': [0, 'Divine Arsenal AA-ZEUS - Sky Thunder'], '69680031': [0, 'Dogmatika Fleurdelis, the Knighted'], '38179121': [0, 'Double Evolution Pill'], '62265044': [0, 'Dragon Ravine'], '57416183': [0, 'Dragonmaid Tidying'], '11969228': [0, 'Dragunity Knight - Romulus'], '20366274': [0, 'El Shaddoll Construct'], '94977269': [0, 'El Shaddoll Winda'], '80532587': [0, \"Elder Entity N'tss\"], '15693423': [0, 'Evenly Matched'], '47325505': [0, 'Fossil Dig'], '55063751': [0, 'Gameciel, the Sea Turtle Kaiju'], '86148577': [0, 'Guardragon Elpy'], '13143275': [0, 'Guardragon Pisty'], '24361622': [0, 'Hieratic Seal of the Heavenly Spheres'], '65741786': [0, 'I:P Masquerena'], '20899496': [0, \"Ice Dragon's Prison\"], '02857636': [0, 'Knightmare Phoenix'], '17228908': [0, 'Lost World'], '97518132': [0, 'Naelshaddoll Ariel'], '08972398': [0, 'Omni Dragon Brotaur'], '31443476': [0, 'Quick Launch'], '51023024': [0, 'Reeshaddoll Wendi'], '05969957': [0, 'Rokket Recharger'], '48355999': [0, 'Rokket Synchron'], '03717252': [0, 'Shaddoll Beast'], '44394295': [0, 'Shaddoll Fusion'], '04939890': [0, 'Shaddoll Hedgehog'], '21011044': [0, 'Shaddoll Schism'], '30328508': [0, 'Shaddoll Squamata'], '15381421': [0, 'Starliege Seyfert'], '48130397': [0, 'Super Polymerization'], '53582587': [0, 'Torrential Tribute'], '18940556': [0, 'Ultimate Conductor Tyranno'], '87571563': [0, 'World Legacy Guardragon'], '04145852': [0, 'Zoodiac Ramram'], '77150143': [0, 'Zoodiac Thoroughblade'], '73356503': [0, 'Barrier Statue of the Stormwinds'], '93969023': [0, 'Black Metal Dragon'], '85289965': [0, 'Borrelsword Dragon'], '03040496': [0, 'Chaos Ruler, the Chaotic Magical Dragon'], '57143342': [0, 'Cir, Malebranche of the Burning Abyss'], '24508238': [0, 'D.D. Crow'], '91800273': [0, 'Dimension Shifter'], '95679145': [0, 'Dogmatika Maximus'], '06417578': [0, 'El Shaddoll Fusion'], '78661338': [0, 'Fantastical Dragon Phantazmay'], '36956512': [0, 'Gadarla, the Mystery Dust Kaiju'], '73642296': [0, 'Ghost Belle & Haunted Mansion'], '80280944': [0, 'Giant Rex'], '20758643': [0, 'Graff, Malebranche of the Burning Abyss'], '38342335': [0, 'Knightmare Unicorn'], '28692962': [0, 'Mekk-Knight Purple Nightfall'], '70333910': [0, 'Noctovision Dragon'], '38761908': [0, 'Paleozoic Dinomischus'], '71278040': [0, 'Parallel eXceed'], '82946847': [0, 'Petiteranodon'], '98645731': [0, 'Pot of Duality'], '17382973': [0, 'Prank-Kids Dodo-Doodle-Doo'], '55725117': [0, 'Prank-Kids Dropsies'], '18236002': [0, 'Prank-Kids Lampsies'], '25725326': [0, 'Prank-Kids Meow-Meow-Mu'], '31440046': [0, 'Prank-Kids Rocksies'], '92353449': [0, 'Red-Eyes Insight'], '67300516': [0, 'Red-Eyes Wyvern'], '77723643': [0, 'Shaddoll Dragon'], '72330894': [0, 'Simorgh, Bird of Sovereignty'], '67750322': [0, 'Skull Meister'], '36426778': [0, 'The Phantom Knights of Silent Boots'], '24207889': [0, 'There Can Be Only One'], '41373230': [0, 'Titaniklad the Ash Dragon'], '80101899': [0, 'Trap Trick'], '87209160': [0, 'Tri-Brigade Fraktall'], '50810455': [0, 'Tri-Brigade Kerass'], '56196385': [0, 'Tri-Brigade Kitt'], '14816857': [0, 'Tri-Brigade Nervall'], '13364097': [0, 'Virtual World Gate - Chuche'], '50275295': [0, 'Virtual World Gate - Qinglong'], '08736823': [0, 'Virtual World Hime - Nyannyan'], '49088914': [0, 'Virtual World Mai-Hime - Lulu'], '31755044': [0, 'Zoodiac Whiptail'], '01475311': [0, 'Allure of Darkness'], '73304257': [0, 'Alpha, the Master of Beasts'], '58699500': [0, 'Cherubini, Ebon Angel of the Burning Abyss'], '50954680': [0, 'Crystal Wing Synchro Dragon'], '60600126': [0, 'Cyber Emergency'], '57160136': [0, 'Cynet Mining'], '32104431': [1, 'Destruction Sword Memories'], '97268402': [0, 'Effect Veiler'], '59438930': [0, 'Ghost Ogre & Snow Rabbit'], '69811710': [0, 'Girsu, the Orcust Mekk-Knight'], '23656668': [0, 'Gravity Controller'], '97300502': [0, 'Invoked Augoeides'], '98978921': [0, 'Link Spider'], '97949165': [1, 'Lyrilusc - Turquoise Warbler'], '20537097': [0, 'Mekk-Knight Blue Sky'], '81119816': [0, 'Prank-Kids Fansies'], '79059098': [0, 'Prank-Kids Pandemonium'], '16269385': [0, 'Prank-Kids Place'], '43664494': [0, 'Prank-Kids Pranks'], '33280639': [1, 'Prologue of the Destruction Swordsman'], '23912837': [0, 'Resh Shaddoll Incarnation'], '14812471': [0, 'Salamangreat Balelynx'], '01295111': [0, 'Salamangreat Sanctuary'], '08491308': [0, 'Sky Striker Ace - Hayate'], '26077387': [0, 'Sky Striker Ace - Raye'], '90673288': [0, 'Sky Striker Ace - Shizuku'], '98338152': [0, 'Sky Striker Mecha - Widow Anchor'], '74762582': [0, 'Subterror Fiendess'], '16428514': [0, 'Subterror Guru'], '23516703': [0, 'Summon Limit'], '05697558': [0, 'The Hidden City'], '90432163': [0, 'The Phantom Knights of Ancient Cloak'], '26692769': [0, 'The Phantom Knights of Rusty Bardiche'], '98827725': [0, 'The Phantom Knights of Shade Brigandine'], '25538345': [0, 'The Phantom Knights of Torn Scales'], '10802915': [0, 'Tour Guide From the Underworld'], '26847978': [0, 'Tri-Brigade Ferrijit the Barren Blossom'], '43898403': [0, 'Twin Twisters'], '14886190': [0, 'Virtual World City - Kauwloon'], '18249921': [0, 'Virtual World Gate - Xuanwu'], '49966326': [0, 'Virtual World Kirin - Lili'], '92519087': [0, 'Virtual World Kyubi - Shenshen'], '86483512': [0, 'Virtual World Roshi - Laolao'], '12571621': [0, 'Virtual World Xiezhi - Jiji'], '74393852': [0, 'Zoodiac Boarbow'], '04367330': [0, 'Zoodiac Bunnyblast'], '41375811': [0, 'Zoodiac Chakanine'], '11510448': [0, 'Zoodiac Tigermortar'], '11302671': [0, 'Adamancipator Analyzer'], '85914562': [0, 'Adamancipator Researcher'], '48519867': [0, 'Adamancipator Seeker'], '72957245': [1, 'Adamancipator Signs'], '53143898': [0, 'Altergeist Marionetter'], '25533642': [0, 'Altergeist Meluseek'], '42790071': [0, 'Altergeist Multifaker'], '27541563': [1, 'Altergeist Protocol'], '89538537': [0, 'Altergeist Silquitous'], '03428069': [1, 'Buster Blader, the Destruction Swordmaster'], '86240887': [1, 'Buster Blader, the Dragon Destroyer Swordsman'], '11790356': [1, 'Buster Dragon'], '49823708': [1, 'Buster Whelp of the Destruction Swordsman'], '42143067': [1, 'Doki Doki'], '97148796': [0, 'Drytron Alpha Thuban'], '96026108': [1, 'Drytron Zeta Aldhibah'], '35726888': [1, 'Foolish Burial Goods'], '71197066': [0, 'Gizmek Orochi, the Serpentron Sky Slasher'], '85696777': [1, 'Harpie Conductor'], '09753964': [0, 'Hot Red Dragon Archfiend Abyss'], '01845204': [0, 'Instant Fusion'], '59934749': [0, 'Isolde, Two Tales of the Noble Knights'], '45041488': [0, \"Koa'ki Meiru Guardian\"], '34550857': [0, 'Lyrilusc - Cobalt Sparrow'], '97631303': [0, \"Magicians' Souls\"], '95492061': [1, 'Manju of the Ten Thousand Hands'], '92204263': [0, 'Mekk-Knight Indigo Eclipse'], '02295440': [0, 'One for One'], '08802510': [0, 'PSY-Framelord Lambda'], '25542642': [0, \"Phantom Knights' Fog Blade\"], '24094653': [0, 'Polymerization'], '43886072': [0, 'Prank-Kids Bow-Wow-Bark'], '18514525': [0, 'Prank-Kids Rocket Ride'], '29296344': [0, 'Quadborrel Dragon'], '94620082': [0, 'Salamangreat Foxy'], '56003780': [0, 'Salamangreat Jack Jaguar'], '52277807': [0, 'Salamangreat Spinny'], '87871125': [0, 'Salamangreat Sunlight Wolf'], '63288573': [0, 'Sky Striker Ace - Kagari'], '50005218': [0, 'Sky Striker Airspace - Area Zero'], '74640994': [1, 'Subterror Final Battle'], '90809975': [1, 'Toadally Awesome'], '96378317': [1, 'Tri-Brigade Rendezvous'], '99726621': [1, 'Tri-Brigade Shuraig the Ominous Omen'], '01686814': [1, 'Ultimaya Tzolkin'], '21044178': [1, 'Abyss Dweller'], '73079836': [1, 'Adamancipator Risen - Raptite'], '65711558': [0, 'Ancient Warriors Oath - Double Dragon Lords'], '50277355': [1, 'Cross-Sheep'], '70095154': [1, 'Cyber Dragon'], '23893227': [1, 'Cyber Dragon Core'], '43316238': [0, 'Danger! Bigfoot!'], '90807199': [1, 'Danger! Thunderbird!'], '83531441': [1, 'Dante, Traveler of the Burning Abyss'], '09411399': [1, 'Destiny HERO - Malicious'], '93332803': [1, 'Dogoran, the Mad Flame Kaiju'], '76218313': [2, 'Dragon Buster Destruction Sword'], '60037599': [1, 'Drytron Gamma Eltanin'], '94187078': [1, 'Drytron Nova'], '50720316': [0, 'Elemental HERO Shadow Mist'], '40044918': [1, 'Elemental HERO Stratos'], '42752141': [0, 'Evolzar Dolkka'], '80794697': [1, 'Flame Bufferlo'], '30741503': [1, 'Galatea, the Orcust Automaton'], '46659709': [1, 'Galaxy Soldier'], '79606837': [0, 'Herald of the Arc Light'], '12307878': [1, 'Invoked Purgatrio'], '80839052': [1, \"Koa'ki Meiru Supplier\"], '39752820': [1, 'Lib the World Key Blademaster'], '34959756': [1, 'Living Fossil'], '60954556': [1, 'Lyrilusc - Sapphire Swallow'], '78990927': [1, 'Megalith Phul'], '22398665': [1, 'Meteonis Drytron'], '29587993': [1, 'Mist Valley Apex Avian'], '47355498': [2, 'Necrovalley'], '21441617': [2, 'Orcust Cymbal Skeleton'], '04055337': [1, 'Orcust Knightmare'], '53936268': [1, 'Personal Spoofing'], '81997228': [0, 'Prank-Kids Battle Butler'], '96729612': [1, 'Preparation of Rites'], '01357146': [1, 'Ronintoadin'], '74997493': [1, 'Saryuja Skull Dread'], '84764038': [1, 'Scarm, Malebranche of the Burning Abyss'], '37351133': [0, 'Sky Striker Ace - Roze'], '99550630': [0, 'Sky Striker Maneuver - Afterburners!'], '51227866': [0, 'Sky Striker Mecha - Shark Cannon'], '64880894': [1, 'Stardust Charge Warrior'], '09126351': [1, 'Swap Frog'], '63821877': [1, 'The Phantom Knights of Ragged Gloves'], '46947713': [1, 'Transcode Talker'], '20799347': [1, 'Virtual World Oto-Hime - Toutou'], '27780618': [1, 'Vision HERO Vyon'], '14970113': [0, 'Zoodiac Hammerkong'], '10286023': [2, 'Adamancipator Crystal - Dragite'], '58921041': [1, 'Anti-Spell Fragrance'], '77411244': [2, 'B-Buster Drake'], '03405259': [2, 'C-Crush Wyvern'], '36975314': [1, 'Crackdown'], '56364287': [1, 'Cyber Dragon Herz'], '94693857': [2, 'Deskbot 001'], '31423101': [1, 'Divine Sword - Phoenix Blade'], '68829754': [1, 'Eldlixir of Black Awakening'], '59392529': [2, 'Elemental HERO Liquid Soldier'], '36553319': [1, 'Farfa, Malebranche of the Burning Abyss'], '36584821': [1, 'Gren Maju Da Eiza'], '63941210': [1, 'Jizukiru, the Star Destroying Kaiju'], '19353570': [1, 'Kagemucha Knight'], '77848740': [1, 'Madolche Petingcessoeur'], '21143940': [2, 'Mask Change'], '63056220': [2, 'Megalith Ophiel'], '94259633': [1, 'Relinquished Anima'], '51339637': [1, 'Salamangreat Roar'], '45819647': [2, 'Selene, Queen of the Master Magicians'], '62709239': [1, 'The Phantom Knights of Break Sword'], '38120068': [1, 'Trade-In'], '52331012': [2, 'Tri-Brigade Rugal the Silver Sheller'], '31588572': [2, 'Unchained Twins - Sarama'], '18094166': [1, 'Vision HERO Faris'], '64178424': [2, 'Will of the Salamangreat'], '93920420': [1, 'World Legacy - \"World Wand\"'], '99674361': [1, 'World Legacy Succession'], '04064256': [2, 'Zombie World']}\n"
     ]
    }
   ],
   "source": [
    "lf_custom = lf_data.copy()\n",
    "\n",
    "for card in most_used_cards:\n",
    "    if lf_custom.get(card) is None:\n",
    "        lf_custom[card] = most_used_cards[card]\n",
    "    else:\n",
    "        #print(most_used_cards[card][1])\n",
    "        if lf_custom[card][0] > most_used_cards[card][0]:\n",
    "            lf_custom[card][0] = most_used_cards[card][0]\n",
    "            if lf_custom.get(str(int(card)-1)) is not None:\n",
    "                lf_custom[str(int(card)-1)][0] = most_used_cards[card][0]     \n",
    "            if lf_custom.get(str(int(card)+1)) is not None:\n",
    "                lf_custom[str(int(card)+1)][0] = most_used_cards[card][0]\n",
    "\n",
    "print (lf_custom)"
   ]
  },
  {
   "cell_type": "code",
   "execution_count": 10,
   "metadata": {},
   "outputs": [],
   "source": [
    "lfout_filename = \"custom.lflist.conf\"\n",
    "lfout_file = open(lfout_filename, 'w')\n",
    "lfout_file.writelines(\"!Custom\\n\")\n",
    "\n",
    "for key in lf_custom:\n",
    "    line = key + \" \" + str(lf_custom.get(key)[0]) + \" --\" + lf_custom.get(key)[1] + \"\\n\"\n",
    "    lfout_file.writelines(line)\n",
    "\n",
    "lfout_file.close()"
   ]
  },
  {
   "cell_type": "markdown",
   "metadata": {},
   "source": [
    "def find_password(card_name):\n",
    "    \n",
    "    yugipedia_url = \"https://yugipedia.com/wiki/\" + card_name.replace(\" \", \"_\")\n",
    "    #print(yugipedia_url)\n",
    "\n",
    "    yugipedia_page = urlopen(yugipedia_url)\n",
    "    yugipedia_text = yugipedia_page.read().decode(\"utf-8\")\n",
    "\n",
    "    yugipedia_soup = BeautifulSoup(yugipedia_text, \"html.parser\")\n",
    "\n",
    "    #print(yugipedia_soup.prettify())\n",
    "    \n",
    "    card_table = yugipedia_soup.find(\"table\", {\"class\":\"innertable\"}).find(\"tbody\")\n",
    "    #print(card_table)\n",
    "\n",
    "    rows = card_table.find_all(\"tr\")\n",
    "    #print(rows)\n",
    "    \n",
    "    for row in rows:\n",
    "        if row.find(\"th\").find(\"a\") == None:\n",
    "            continue\n",
    "            \n",
    "        info = row.find(\"th\").find(\"a\").text \n",
    "        #print(info)\n",
    "\n",
    "        if info==\"Password\":\n",
    "            #print(row)\n",
    "            password = row.find(\"td\").find(\"a\").text\n",
    "            return password\n",
    "\n",
    "print(find_password(\"Red-Eyes Black Dragon\"))"
   ]
  },
  {
   "cell_type": "markdown",
   "metadata": {},
   "source": [
    "card_database = []\n",
    "\n",
    "for row in match_cards_rows:\n",
    "    match_card_data = row.find_all(\"td\")\n",
    "    #print(match_card_data)\n",
    "    #print(match_card_data[0])\n",
    "    \n",
    "    card_link = match_card_data[0].find(\"a\")\n",
    "    card_name = sanitize(card_link.text)\n",
    "    card_appearance = match_card_data[1].text\n",
    "    print(card_name, card_appearance)\n",
    "    card_password = find_password(card_name)\n",
    "    print(card_password, card_appearance, card_name)\n",
    "    \n",
    "    card_database.append([find_password(card_name), card_appearance, card_name])\n",
    "\n",
    "#print(card_database)"
   ]
  },
  {
   "cell_type": "code",
   "execution_count": null,
   "metadata": {},
   "outputs": [],
   "source": []
  }
 ],
 "metadata": {
  "kernelspec": {
   "display_name": "Python 3",
   "language": "python",
   "name": "python3"
  },
  "language_info": {
   "codemirror_mode": {
    "name": "ipython",
    "version": 3
   },
   "file_extension": ".py",
   "mimetype": "text/x-python",
   "name": "python",
   "nbconvert_exporter": "python",
   "pygments_lexer": "ipython3",
   "version": "3.8.5"
  }
 },
 "nbformat": 4,
 "nbformat_minor": 4
}
